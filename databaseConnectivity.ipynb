{
 "cells": [
  {
   "cell_type": "code",
   "execution_count": 1,
   "id": "391001a2-2dc5-4ab4-a623-45daa7f6601a",
   "metadata": {},
   "outputs": [
    {
     "name": "stdout",
     "output_type": "stream",
     "text": [
      "Requirement already satisfied: mysql-connector-python in /Users/ananthakrishnakalle/anaconda3/lib/python3.10/site-packages (8.3.0)\n"
     ]
    }
   ],
   "source": [
    "!pip install mysql-connector-python"
   ]
  },
  {
   "cell_type": "code",
   "execution_count": 1,
   "id": "720a6757-006e-41d5-bcb9-ead09dd9893a",
   "metadata": {},
   "outputs": [],
   "source": [
    "import mysql.connector as connection"
   ]
  },
  {
   "cell_type": "code",
   "execution_count": 42,
   "id": "400c75c0-ed10-40f3-8c61-d68f04c428e8",
   "metadata": {},
   "outputs": [
    {
     "name": "stdout",
     "output_type": "stream",
     "text": [
      "[('AkBank',), ('employees',), ('information_schema',), ('mysql',), ('performance_schema',), ('sys',)]\n"
     ]
    }
   ],
   "source": [
    "try:\n",
    "    mydb = connection.connect(\n",
    "        host=\"localhost\",\n",
    "        user=\"root\",\n",
    "        passwd=\"root@1234\",\n",
    "        use_pure=True\n",
    "    )\n",
    "    \n",
    "    query = \"SHOW DATABASES\"\n",
    "    \n",
    "    cursor = mydb.cursor()\n",
    "    cursor.execute(query)\n",
    "    print(cursor.fetchall())\n",
    "    \n",
    "except Exception as e:\n",
    "    mydb.close()\n",
    "    print(str(e))"
   ]
  },
  {
   "cell_type": "code",
   "execution_count": 8,
   "id": "87579101-7a9b-4218-8d3a-bada5c7c66f8",
   "metadata": {},
   "outputs": [
    {
     "data": {
      "text/plain": [
       "<mysql.connector.connection.MySQLConnection at 0x108828df0>"
      ]
     },
     "execution_count": 8,
     "metadata": {},
     "output_type": "execute_result"
    }
   ],
   "source": [
    "mydb"
   ]
  },
  {
   "cell_type": "code",
   "execution_count": 13,
   "id": "ab651887-17fc-4579-8da2-df704b2726e2",
   "metadata": {},
   "outputs": [],
   "source": [
    "conn = connection.connect(\n",
    "        host=\"localhost\",\n",
    "        user=\"root\",\n",
    "        passwd=\"root@1234\",\n",
    "        use_pure=True\n",
    "    )"
   ]
  },
  {
   "cell_type": "code",
   "execution_count": 14,
   "id": "cf9d4406-6bde-4775-a19f-54c625168677",
   "metadata": {},
   "outputs": [],
   "source": [
    "cur = conn.cursor()"
   ]
  },
  {
   "cell_type": "code",
   "execution_count": 24,
   "id": "d981b95e-f484-49e7-8e86-76d0d85723d3",
   "metadata": {},
   "outputs": [
    {
     "name": "stdout",
     "output_type": "stream",
     "text": [
      "zsh:1: number expected\n"
     ]
    }
   ],
   "source": [
    "!cur.execute(\"create database AkBank\")"
   ]
  },
  {
   "cell_type": "code",
   "execution_count": 31,
   "id": "729f72c0-8f48-4372-bb0a-5989dc85cc60",
   "metadata": {},
   "outputs": [],
   "source": [
    "cur.execute(\"SHOW DATABASES\")"
   ]
  },
  {
   "cell_type": "code",
   "execution_count": 32,
   "id": "4308700f-62db-4d5a-8e95-1aa7024f29ed",
   "metadata": {},
   "outputs": [],
   "source": [
    "res = cur.fetchall()"
   ]
  },
  {
   "cell_type": "code",
   "execution_count": 33,
   "id": "c1d5b99a-efe8-4b3d-b2eb-25dfe11b7810",
   "metadata": {},
   "outputs": [
    {
     "data": {
      "text/plain": [
       "[('AkBank',),\n",
       " ('information_schema',),\n",
       " ('mysql',),\n",
       " ('performance_schema',),\n",
       " ('sys',)]"
      ]
     },
     "execution_count": 33,
     "metadata": {},
     "output_type": "execute_result"
    }
   ],
   "source": [
    "res"
   ]
  },
  {
   "cell_type": "code",
   "execution_count": 30,
   "id": "9048d9d7-02dc-4d00-a352-ee8f4576714c",
   "metadata": {},
   "outputs": [
    {
     "name": "stdout",
     "output_type": "stream",
     "text": [
      "Database Created\n"
     ]
    }
   ],
   "source": [
    "try:\n",
    "    mydb = connection.connect(\n",
    "        host=\"localhost\",\n",
    "        user=\"root\",\n",
    "        passwd=\"root@1234\",\n",
    "        use_pure=True\n",
    "    )\n",
    "    \n",
    "    query = \"create database employees;\"\n",
    "    \n",
    "    cursor = mydb.cursor()\n",
    "    cursor.execute(query)\n",
    "    print(\"Database Created\")\n",
    "    \n",
    "except Exception as e:\n",
    "    mydb.close()\n",
    "    print(str(e))"
   ]
  },
  {
   "cell_type": "code",
   "execution_count": 38,
   "id": "8db38610-fa02-4cdb-bb04-0b1db4566d89",
   "metadata": {},
   "outputs": [
    {
     "name": "stdout",
     "output_type": "stream",
     "text": [
      "True\n",
      "Table Created\n"
     ]
    }
   ],
   "source": [
    "try:\n",
    "    mydb = connection.connect(\n",
    "        host=\"localhost\",\n",
    "        database=\"employees\",\n",
    "        user=\"root\",\n",
    "        passwd=\"root@1234\",\n",
    "        use_pure=True\n",
    "    )\n",
    "    print(mydb.is_connected())\n",
    "    \n",
    "    query = \"CREATE TABLE employeeDetails(employeeId INT(10) AUTO_INCREMENT PRIMARY KEY, firstName VARCHAR(60), lastName VARCHAR(20), joiningDate DATE, department VARCHAR(20), jobTitle VARCHAR(10));\"\n",
    "    \n",
    "    cursor = mydb.cursor()\n",
    "    cursor.execute(query)\n",
    "    print(\"Table Created\")\n",
    "    \n",
    "except Exception as e:\n",
    "    mydb.close()\n",
    "    print(str(e))"
   ]
  },
  {
   "cell_type": "code",
   "execution_count": 41,
   "id": "88a1d132-123f-4ee1-8224-647b62108e1b",
   "metadata": {},
   "outputs": [
    {
     "name": "stdout",
     "output_type": "stream",
     "text": [
      "True\n",
      "Table Created\n"
     ]
    }
   ],
   "source": [
    "try:\n",
    "    mydb = connection.connect(\n",
    "        host=\"localhost\",\n",
    "        database=\"employees\",\n",
    "        user=\"root\",\n",
    "        passwd=\"root@1234\",\n",
    "        use_pure=True\n",
    "    )\n",
    "    print(mydb.is_connected())\n",
    "    \n",
    "    query = 'INSERT INTO employeeDetails VALUES (\"1234\", \"Ananthakrishna\", \"Kalle\", \"2019-10-21\", \"IT\", \"DA\")'\n",
    "    \n",
    "    cursor = mydb.cursor()\n",
    "    cursor.execute(query)\n",
    "    print(\"Table Created\")\n",
    "    \n",
    "except Exception as e:\n",
    "    mydb.close()\n",
    "    print(str(e))"
   ]
  },
  {
   "cell_type": "code",
   "execution_count": null,
   "id": "62d86217-1b9b-415d-b5e2-e0250919fa89",
   "metadata": {},
   "outputs": [],
   "source": []
  }
 ],
 "metadata": {
  "kernelspec": {
   "display_name": "Python 3 (ipykernel)",
   "language": "python",
   "name": "python3"
  },
  "language_info": {
   "codemirror_mode": {
    "name": "ipython",
    "version": 3
   },
   "file_extension": ".py",
   "mimetype": "text/x-python",
   "name": "python",
   "nbconvert_exporter": "python",
   "pygments_lexer": "ipython3",
   "version": "3.10.9"
  }
 },
 "nbformat": 4,
 "nbformat_minor": 5
}
